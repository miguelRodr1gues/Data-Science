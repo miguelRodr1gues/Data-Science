{
  "cells": [
    {
      "cell_type": "markdown",
      "metadata": {
        "id": "TOxv5GaRq7ML"
      },
      "source": [
        "# Practical session week 1 - Python foundation\n",
        "\n",
        "## Purpose\n",
        "The purpose of this practical session is to make you more confident coding with Python and using Jupyter Notebooks, which we will be using for the rest of the year--both for Data Science and Artificial Intelligence.\n",
        "\n",
        "\n",
        "## Goals\n",
        "1. Working with Jupyter notebooks, cells, code and markdown\n",
        "2. Review the basic Python data structures, operators and flow of control\n",
        "3. Review the use and importance of custom libraries to augment Python's power\n",
        "\n",
        "## Results\n",
        "Fast track to programming in Python.\n",
        "\n",
        "---"
      ]
    },
    {
      "cell_type": "markdown",
      "metadata": {
        "id": "auJfEnRQq7MQ"
      },
      "source": [
        "---\n",
        "\n",
        "# Python Review"
      ]
    },
    {
      "cell_type": "markdown",
      "metadata": {
        "id": "O6O5FX1-q7MR"
      },
      "source": [
        "## Basic data types and their methods"
      ]
    },
    {
      "cell_type": "markdown",
      "metadata": {
        "id": "nsgpfMkUq7MR"
      },
      "source": [
        "https://docs.python.org/3.13/library/stdtypes.html"
      ]
    },
    {
      "cell_type": "markdown",
      "metadata": {
        "id": "4uyCuLa1q7MS"
      },
      "source": [
        "### Boolean"
      ]
    },
    {
      "cell_type": "code",
      "execution_count": 2,
      "metadata": {
        "id": "QAN4JvsQq7MS"
      },
      "outputs": [],
      "source": [
        "a = True\n",
        "b = False"
      ]
    },
    {
      "cell_type": "markdown",
      "metadata": {
        "id": "Ue653NvTq7MS"
      },
      "source": [
        "#### Boolean Operations\n",
        "\n",
        "Suppose variables `x` and `y`\n",
        "\n",
        "    \n",
        "<table><thead>\n",
        "<tr>\n",
        "<th style=\"text-align: center\">Operator</th>\n",
        "<th>Description</th>\n",
        "<th>Code</th>\n",
        "</tr>\n",
        "</thead><tbody>\n",
        "<tr>\n",
        "<td style=\"text-align: center\">and</td>\n",
        "<td>True if both are true</td>\n",
        "<td><code>x and y</code></td>\n",
        "</tr>\n",
        "<tr>\n",
        "<td style=\"text-align: center\">or</td>\n",
        "<td>True if at least one is true</td>\n",
        "<td><code>x or y</code></td>\n",
        "</tr>\n",
        "<tr>\n",
        "<td style=\"text-align: center\">not</td>\n",
        "<td>True only if false</td>\n",
        "<td><code>not x</code></td>\n",
        "</tr>\n",
        "</tbody></table>"
      ]
    },
    {
      "cell_type": "code",
      "execution_count": 3,
      "metadata": {
        "ExecuteTime": {
          "end_time": "2021-02-21T23:42:17.996518Z",
          "start_time": "2021-02-21T23:42:17.988571Z"
        },
        "colab": {
          "base_uri": "https://localhost:8080/"
        },
        "id": "V2OHLiSQq7MS",
        "outputId": "16532506-023b-4291-f67d-4fbaf5555052"
      },
      "outputs": [
        {
          "output_type": "stream",
          "name": "stdout",
          "text": [
            "False\n",
            "True\n",
            "False\n"
          ]
        }
      ],
      "source": [
        "print(a and b)\n",
        "print(a or b)\n",
        "print(not a)"
      ]
    },
    {
      "cell_type": "code",
      "source": [],
      "metadata": {
        "id": "12VttC0_WsaD"
      },
      "execution_count": null,
      "outputs": []
    },
    {
      "cell_type": "markdown",
      "metadata": {
        "id": "h7wENW4Dq7MS"
      },
      "source": [
        "---\n",
        "\n",
        "###  Numeric\n",
        "- int\n",
        "- float"
      ]
    },
    {
      "cell_type": "code",
      "execution_count": 4,
      "metadata": {
        "ExecuteTime": {
          "end_time": "2021-02-21T23:42:18.009809Z",
          "start_time": "2021-02-21T23:42:18.001519Z"
        },
        "id": "eOrFkxSjq7MT"
      },
      "outputs": [],
      "source": [
        "#Initiate an integer variable 'a' with the value 10\n",
        "#and print the type\n",
        "a = 10"
      ]
    },
    {
      "cell_type": "code",
      "source": [],
      "metadata": {
        "id": "AVsMmbaFXx8o"
      },
      "execution_count": null,
      "outputs": []
    },
    {
      "cell_type": "code",
      "source": [
        "#Initiate an float variable 'a' with the value 10.1\n",
        "#and print the type\n",
        "a = 10.1"
      ],
      "metadata": {
        "id": "KRtUXluTxwPg"
      },
      "execution_count": 6,
      "outputs": []
    },
    {
      "cell_type": "code",
      "source": [],
      "metadata": {
        "id": "mGjbWlftXvCe"
      },
      "execution_count": null,
      "outputs": []
    },
    {
      "cell_type": "markdown",
      "metadata": {
        "id": "JJPY3CS2q7MT"
      },
      "source": [
        "Cast from Float to Integer"
      ]
    },
    {
      "cell_type": "code",
      "execution_count": 7,
      "metadata": {
        "ExecuteTime": {
          "end_time": "2021-02-21T23:42:18.032421Z",
          "start_time": "2021-02-21T23:42:18.026261Z"
        },
        "colab": {
          "base_uri": "https://localhost:8080/"
        },
        "id": "RBbNzEzBq7MT",
        "outputId": "74de11df-e40a-4e79-95b4-d5e5f2798bcb"
      },
      "outputs": [
        {
          "output_type": "execute_result",
          "data": {
            "text/plain": [
              "2"
            ]
          },
          "metadata": {},
          "execution_count": 7
        }
      ],
      "source": [
        "#integer part of a float can be extracted using int()\n",
        "a = 2.1\n",
        "int(a)"
      ]
    },
    {
      "cell_type": "markdown",
      "metadata": {
        "id": "oyND-Ovsq7MT"
      },
      "source": [
        "Cast from Integer to Float"
      ]
    },
    {
      "cell_type": "code",
      "execution_count": 8,
      "metadata": {
        "ExecuteTime": {
          "end_time": "2021-02-21T23:42:18.043503Z",
          "start_time": "2021-02-21T23:42:18.036104Z"
        },
        "colab": {
          "base_uri": "https://localhost:8080/"
        },
        "id": "FzeTSFOHq7MT",
        "outputId": "fa01b6f4-bbcb-41f3-e2ae-a94659e331eb"
      },
      "outputs": [
        {
          "output_type": "execute_result",
          "data": {
            "text/plain": [
              "10.0"
            ]
          },
          "metadata": {},
          "execution_count": 8
        }
      ],
      "source": [
        "#convert an integer to a float using float()\n",
        "a = 10\n",
        "float(a)"
      ]
    },
    {
      "cell_type": "code",
      "source": [],
      "metadata": {
        "id": "d71deWGFXf9K"
      },
      "execution_count": null,
      "outputs": []
    },
    {
      "cell_type": "markdown",
      "metadata": {
        "id": "u84qlX8cq7MU"
      },
      "source": [
        "---\n",
        "### Sequence Types"
      ]
    },
    {
      "cell_type": "markdown",
      "metadata": {
        "id": "5aQOK-joq7MU"
      },
      "source": [
        "#### Text Sequence or String"
      ]
    },
    {
      "cell_type": "code",
      "execution_count": 9,
      "metadata": {
        "ExecuteTime": {
          "end_time": "2021-02-21T23:42:18.055031Z",
          "start_time": "2021-02-21T23:42:18.047405Z"
        },
        "colab": {
          "base_uri": "https://localhost:8080/"
        },
        "id": "XGKQNN07q7MU",
        "outputId": "d725ff71-6549-4185-a86e-bf52843f39ed"
      },
      "outputs": [
        {
          "output_type": "stream",
          "name": "stdout",
          "text": [
            "True\n"
          ]
        }
      ],
      "source": [
        "#strings can be assigned by passing data in text format, either in single or double quotes\n",
        "#test both cases for 'Data'\n",
        "a = 'Data'\n",
        "b = 'Data'\n",
        "\n",
        "#test if the two strings are equal\n",
        "print(a == b)\n",
        "\n",
        "\n",
        "#checking the type of the variable\n"
      ]
    },
    {
      "cell_type": "markdown",
      "metadata": {
        "id": "SHXIPLjeq7MU"
      },
      "source": [
        "Concatenate Strings"
      ]
    },
    {
      "cell_type": "code",
      "execution_count": 13,
      "metadata": {
        "ExecuteTime": {
          "end_time": "2021-02-21T23:42:18.067381Z",
          "start_time": "2021-02-21T23:42:18.058517Z"
        },
        "colab": {
          "base_uri": "https://localhost:8080/"
        },
        "id": "_IwpWyQfq7MU",
        "outputId": "4b629885-cd94-404c-c4a0-d23db7a561d3"
      },
      "outputs": [
        {
          "output_type": "stream",
          "name": "stdout",
          "text": [
            "Data Science\n"
          ]
        }
      ],
      "source": [
        "#to concatenate strings, just use the \"+\" operator.\n",
        "#create a new string \"Data Science\" using \"+\"\n",
        "a = 'Data ' + 'Science'\n",
        "\n",
        "print(a)"
      ]
    },
    {
      "cell_type": "code",
      "source": [],
      "metadata": {
        "id": "nEZsCsqDYSqR"
      },
      "execution_count": null,
      "outputs": []
    },
    {
      "cell_type": "markdown",
      "metadata": {
        "id": "qXp0-cYqq7MU"
      },
      "source": [
        "#### List,  Mutable Dynamic Arrays\n"
      ]
    },
    {
      "cell_type": "markdown",
      "metadata": {
        "id": "BsGosTy_q7MV"
      },
      "source": [
        "Empty List"
      ]
    },
    {
      "cell_type": "code",
      "execution_count": 21,
      "metadata": {
        "ExecuteTime": {
          "end_time": "2021-02-21T23:42:18.083456Z",
          "start_time": "2021-02-21T23:42:18.071566Z"
        },
        "colab": {
          "base_uri": "https://localhost:8080/"
        },
        "id": "tIcgmfDkq7MV",
        "outputId": "33d7a2ad-875f-4b35-e5fe-9b58143e672e"
      },
      "outputs": [
        {
          "output_type": "execute_result",
          "data": {
            "text/plain": [
              "1"
            ]
          },
          "metadata": {},
          "execution_count": 21
        }
      ],
      "source": [
        "#create a list using square brackets\n",
        "list = [1]\n",
        "\n",
        "list[0]\n",
        "\n",
        "#check the type\n"
      ]
    },
    {
      "cell_type": "markdown",
      "metadata": {
        "id": "AO-gzl_eq7MV"
      },
      "source": [
        "Multiple types"
      ]
    },
    {
      "cell_type": "code",
      "execution_count": 31,
      "metadata": {
        "ExecuteTime": {
          "end_time": "2021-02-21T23:42:18.094566Z",
          "start_time": "2021-02-21T23:42:18.087056Z"
        },
        "colab": {
          "base_uri": "https://localhost:8080/"
        },
        "id": "dJfUiJ0Jq7MV",
        "outputId": "d91f69ee-c288-4b14-e482-443522e2282f"
      },
      "outputs": [
        {
          "output_type": "stream",
          "name": "stdout",
          "text": [
            "<class 'str'>\n",
            "<class 'str'>\n",
            "<class 'int'>\n",
            "<class 'float'>\n"
          ]
        }
      ],
      "source": [
        "#in Python, a list can hold multiple types of variables\"\n",
        "#try this code \"list_array = [\"one\", \"two\", 3, 4.0]\"\n",
        "#Check the type of all components on this list\n",
        "\n",
        "list_array = [\"one\", \"two\", 3, 4.0]\n",
        "\n",
        "for i in list_array:\n",
        "  print(type(i))\n"
      ]
    },
    {
      "cell_type": "markdown",
      "metadata": {
        "id": "8wnO8S7aq7MY"
      },
      "source": [
        "get list elements"
      ]
    },
    {
      "cell_type": "code",
      "source": [
        "#access the second element on the list and print the value.\n",
        "list_array[1]"
      ],
      "metadata": {
        "colab": {
          "base_uri": "https://localhost:8080/",
          "height": 36
        },
        "id": "rlohi9e7CcdA",
        "outputId": "50afb975-cd5a-4499-81a0-c7eb1f2b9dba"
      },
      "execution_count": 20,
      "outputs": [
        {
          "output_type": "execute_result",
          "data": {
            "text/plain": [
              "'two'"
            ],
            "application/vnd.google.colaboratory.intrinsic+json": {
              "type": "string"
            }
          },
          "metadata": {},
          "execution_count": 20
        }
      ]
    },
    {
      "cell_type": "code",
      "source": [
        "#You can also use negative numbers to access elements in reverse order\n",
        "#test by printing the -1 element\n",
        "list_array[-1]"
      ],
      "metadata": {
        "colab": {
          "base_uri": "https://localhost:8080/"
        },
        "id": "bXJJJwinCe6x",
        "outputId": "72cdf428-e7ea-4c27-cc61-c002cee15f6e"
      },
      "execution_count": 22,
      "outputs": [
        {
          "output_type": "execute_result",
          "data": {
            "text/plain": [
              "4.0"
            ]
          },
          "metadata": {},
          "execution_count": 22
        }
      ]
    },
    {
      "cell_type": "markdown",
      "metadata": {
        "id": "R1gXyP-Hq7MV"
      },
      "source": [
        "Mutability"
      ]
    },
    {
      "cell_type": "code",
      "execution_count": 32,
      "metadata": {
        "ExecuteTime": {
          "end_time": "2021-02-21T23:42:18.103505Z",
          "start_time": "2021-02-21T23:42:18.097128Z"
        },
        "colab": {
          "base_uri": "https://localhost:8080/"
        },
        "id": "iub3QRJpq7MV",
        "outputId": "916da9bf-2200-4641-dcfb-1f084c958bbc"
      },
      "outputs": [
        {
          "output_type": "execute_result",
          "data": {
            "text/plain": [
              "['one', 'A', 3, 4.0]"
            ]
          },
          "metadata": {},
          "execution_count": 32
        }
      ],
      "source": [
        "#data from a list can be accessed by passing the index inside square brackets\n",
        "#lists can also be modified using the '=' operator\n",
        "#test change a value from list\n",
        "list_array[1] = 'A'\n",
        "\n",
        "list_array\n"
      ]
    },
    {
      "cell_type": "markdown",
      "metadata": {
        "id": "KuprQDNtq7MW"
      },
      "source": [
        "Append at the end"
      ]
    },
    {
      "cell_type": "code",
      "execution_count": 33,
      "metadata": {
        "ExecuteTime": {
          "end_time": "2021-02-21T23:42:18.112425Z",
          "start_time": "2021-02-21T23:42:18.105852Z"
        },
        "colab": {
          "base_uri": "https://localhost:8080/"
        },
        "id": "EBhciBCVq7MW",
        "outputId": "e84d8d93-a8da-423f-93ee-57ca14750733"
      },
      "outputs": [
        {
          "output_type": "execute_result",
          "data": {
            "text/plain": [
              "['one', 'A', 3, 4.0, 'Data', 'Science', 'Intro', 10]"
            ]
          },
          "metadata": {},
          "execution_count": 33
        }
      ],
      "source": [
        "#to add a new item to the end of the list, just use the append() method\n",
        "#create a list and add itens using append()\n",
        "\n",
        "lista = ['Data', 'Science', 'Intro', 10]\n",
        "\n",
        "for i in lista:\n",
        "  list_array.append(i)\n",
        "\n",
        "list_array\n",
        "\n",
        "#print the contents of the list\n"
      ]
    },
    {
      "cell_type": "markdown",
      "metadata": {
        "id": "9irIOBwdq7MW"
      },
      "source": [
        "Remove the last element"
      ]
    },
    {
      "cell_type": "code",
      "execution_count": 37,
      "metadata": {
        "ExecuteTime": {
          "end_time": "2021-02-21T23:42:18.120533Z",
          "start_time": "2021-02-21T23:42:18.114790Z"
        },
        "colab": {
          "base_uri": "https://localhost:8080/",
          "height": 36
        },
        "id": "Hhx4V2R5q7MW",
        "outputId": "d07da84c-7268-4f66-fa1e-c12527501346"
      },
      "outputs": [
        {
          "output_type": "execute_result",
          "data": {
            "text/plain": [
              "'Science'"
            ],
            "application/vnd.google.colaboratory.intrinsic+json": {
              "type": "string"
            }
          },
          "metadata": {},
          "execution_count": 37
        }
      ],
      "source": [
        "#to remove an item from a list, use pop\n",
        "#if no parameter is passed inside the parentheses, it removes the last item\n",
        "#pop always returns the item that was removed from the list\n",
        "#try it\n",
        "list_array.pop()"
      ]
    },
    {
      "cell_type": "markdown",
      "metadata": {
        "id": "IUE8vrCEq7MX"
      },
      "source": [
        "Remove Operation by index"
      ]
    },
    {
      "cell_type": "code",
      "source": [
        "#It is possible to pass the address within the parentheses to remove a specific item\n",
        "#the pop always returns the item that was removed from the list\n",
        "#remove item from index 2\n",
        "list_array.pop(2)\n"
      ],
      "metadata": {
        "colab": {
          "base_uri": "https://localhost:8080/"
        },
        "id": "hVMOhMFz-rVv",
        "outputId": "c0b80067-793d-497e-e8c0-a14137ee483b"
      },
      "execution_count": 38,
      "outputs": [
        {
          "output_type": "execute_result",
          "data": {
            "text/plain": [
              "3"
            ]
          },
          "metadata": {},
          "execution_count": 38
        }
      ]
    },
    {
      "cell_type": "code",
      "source": [
        "#whe can use also 'del' method\n",
        "#try to remove a item from the list\n",
        "\n",
        "del(list_array[0])\n",
        "\n",
        "list_array\n"
      ],
      "metadata": {
        "colab": {
          "base_uri": "https://localhost:8080/"
        },
        "id": "qowPhY60BswI",
        "outputId": "3a70a785-7645-4aeb-e1f6-22b022a102bc"
      },
      "execution_count": 43,
      "outputs": [
        {
          "output_type": "execute_result",
          "data": {
            "text/plain": [
              "['A', 4.0, 'Data']"
            ]
          },
          "metadata": {},
          "execution_count": 43
        }
      ]
    },
    {
      "cell_type": "markdown",
      "metadata": {
        "id": "x6D0H_Zrq7MX"
      },
      "source": [
        "Size of list"
      ]
    },
    {
      "cell_type": "code",
      "execution_count": 40,
      "metadata": {
        "ExecuteTime": {
          "end_time": "2021-02-22T00:29:10.121342Z",
          "start_time": "2021-02-22T00:29:10.115344Z"
        },
        "colab": {
          "base_uri": "https://localhost:8080/"
        },
        "id": "xGErqa9Vq7MY",
        "outputId": "d3a09ec7-679c-4b96-d847-d7f0ba1a5dc6"
      },
      "outputs": [
        {
          "output_type": "execute_result",
          "data": {
            "text/plain": [
              "4"
            ]
          },
          "metadata": {},
          "execution_count": 40
        }
      ],
      "source": [
        "#We can quickly get the size of a list using 'len'\n",
        "#What is the final size of the list after the various removals?\n",
        "len(list_array)"
      ]
    },
    {
      "cell_type": "markdown",
      "metadata": {
        "id": "mXIgdnIgq7MZ"
      },
      "source": [
        "Indexing or **Slicing** List"
      ]
    },
    {
      "cell_type": "markdown",
      "metadata": {
        "id": "c0zUInjMq7MZ"
      },
      "source": [
        "```python\n",
        "start:end(exclusive):step\n",
        "```"
      ]
    },
    {
      "cell_type": "markdown",
      "metadata": {
        "id": "OSSCUF96q7Ma"
      },
      "source": [
        "From first to second, all values"
      ]
    },
    {
      "cell_type": "code",
      "execution_count": 45,
      "metadata": {
        "colab": {
          "base_uri": "https://localhost:8080/",
          "height": 176
        },
        "id": "t0wRKnLwq7Ma",
        "outputId": "26d57236-704f-4f9b-a790-b3a6f13abd37"
      },
      "outputs": [
        {
          "output_type": "error",
          "ename": "AttributeError",
          "evalue": "'list' object has no attribute 'slice'",
          "traceback": [
            "\u001b[0;31m---------------------------------------------------------------------------\u001b[0m",
            "\u001b[0;31mAttributeError\u001b[0m                            Traceback (most recent call last)",
            "\u001b[0;32m/tmp/ipython-input-3658348832.py\u001b[0m in \u001b[0;36m<cell line: 0>\u001b[0;34m()\u001b[0m\n\u001b[1;32m      3\u001b[0m \u001b[0marray\u001b[0m \u001b[0;34m=\u001b[0m \u001b[0;34m[\u001b[0m\u001b[0;36m4.0\u001b[0m\u001b[0;34m,\u001b[0m \u001b[0;34m'Data'\u001b[0m\u001b[0;34m,\u001b[0m \u001b[0;34m'Science'\u001b[0m\u001b[0;34m,\u001b[0m \u001b[0;34m'Intro'\u001b[0m\u001b[0;34m,\u001b[0m \u001b[0;36m10\u001b[0m\u001b[0;34m]\u001b[0m\u001b[0;34m\u001b[0m\u001b[0;34m\u001b[0m\u001b[0m\n\u001b[1;32m      4\u001b[0m \u001b[0;34m\u001b[0m\u001b[0m\n\u001b[0;32m----> 5\u001b[0;31m \u001b[0marray\u001b[0m\u001b[0;34m.\u001b[0m\u001b[0mslice\u001b[0m\u001b[0;34m(\u001b[0m\u001b[0;36m2\u001b[0m\u001b[0;34m)\u001b[0m\u001b[0;34m\u001b[0m\u001b[0;34m\u001b[0m\u001b[0m\n\u001b[0m",
            "\u001b[0;31mAttributeError\u001b[0m: 'list' object has no attribute 'slice'"
          ]
        }
      ],
      "source": [
        "#Initially, create a list with 5 elements\n",
        "#Then, print the first 3 elements using slice\n",
        "array = [4.0, 'Data', 'Science', 'Intro', 10]\n",
        "\n",
        "array.slice(2)\n"
      ]
    },
    {
      "cell_type": "markdown",
      "metadata": {
        "id": "nFIjMPlAq7Ma"
      },
      "source": [
        "From first to last, every two values"
      ]
    },
    {
      "cell_type": "code",
      "execution_count": null,
      "metadata": {
        "ExecuteTime": {
          "end_time": "2021-02-22T00:30:22.373655Z",
          "start_time": "2021-02-22T00:30:22.362632Z"
        },
        "colab": {
          "base_uri": "https://localhost:8080/"
        },
        "id": "IZvXv-Jrq7Ma",
        "outputId": "d2842267-aa79-48f9-e6c9-789cec93a37a"
      },
      "outputs": [
        {
          "output_type": "execute_result",
          "data": {
            "text/plain": [
              "['one', 3]"
            ]
          },
          "metadata": {},
          "execution_count": 18
        }
      ],
      "source": [
        "#now do a slice starting from the first 3 elements, skipping 2 by 2\n"
      ]
    },
    {
      "cell_type": "code",
      "source": [],
      "metadata": {
        "id": "Ja1X05q8ZZhd"
      },
      "execution_count": null,
      "outputs": []
    },
    {
      "cell_type": "markdown",
      "metadata": {
        "id": "KzO2gG8Jq7Ma"
      },
      "source": [
        "---\n",
        "#### Range"
      ]
    },
    {
      "cell_type": "code",
      "source": [
        "#Create also a range from 2 up to 7 (7 not included)\n",
        "list(range(2,7))"
      ],
      "metadata": {
        "colab": {
          "base_uri": "https://localhost:8080/",
          "height": 158
        },
        "id": "iUUypNvyIA0w",
        "outputId": "f8e53447-7031-487f-c0f2-02275a1fb824"
      },
      "execution_count": 55,
      "outputs": [
        {
          "output_type": "error",
          "ename": "TypeError",
          "evalue": "'list' object is not callable",
          "traceback": [
            "\u001b[0;31m---------------------------------------------------------------------------\u001b[0m",
            "\u001b[0;31mTypeError\u001b[0m                                 Traceback (most recent call last)",
            "\u001b[0;32m/tmp/ipython-input-992078425.py\u001b[0m in \u001b[0;36m<cell line: 0>\u001b[0;34m()\u001b[0m\n\u001b[1;32m      1\u001b[0m \u001b[0;31m#Create also a range from 2 up to 7 (7 not included)\u001b[0m\u001b[0;34m\u001b[0m\u001b[0;34m\u001b[0m\u001b[0m\n\u001b[0;32m----> 2\u001b[0;31m \u001b[0mlist\u001b[0m\u001b[0;34m(\u001b[0m\u001b[0mrange\u001b[0m\u001b[0;34m(\u001b[0m\u001b[0;36m2\u001b[0m\u001b[0;34m,\u001b[0m\u001b[0;36m7\u001b[0m\u001b[0;34m)\u001b[0m\u001b[0;34m)\u001b[0m\u001b[0;34m\u001b[0m\u001b[0;34m\u001b[0m\u001b[0m\n\u001b[0m",
            "\u001b[0;31mTypeError\u001b[0m: 'list' object is not callable"
          ]
        }
      ]
    },
    {
      "cell_type": "code",
      "source": [],
      "metadata": {
        "id": "4iuyhuE9cfT7"
      },
      "execution_count": 58,
      "outputs": []
    },
    {
      "cell_type": "markdown",
      "metadata": {
        "id": "WB4ER7Mhq7Mb"
      },
      "source": [
        "---\n",
        "#### Tuples"
      ]
    },
    {
      "cell_type": "code",
      "execution_count": null,
      "metadata": {
        "ExecuteTime": {
          "end_time": "2021-09-27T10:02:27.872718Z",
          "start_time": "2021-09-27T10:02:27.848657Z"
        },
        "id": "NQ10YG41q7Mb",
        "colab": {
          "base_uri": "https://localhost:8080/"
        },
        "outputId": "f0f49e85-ff4c-4840-8c01-4bf48e798717"
      },
      "outputs": [
        {
          "output_type": "execute_result",
          "data": {
            "text/plain": [
              "('one', 'two', 'three')"
            ]
          },
          "metadata": {},
          "execution_count": 22
        }
      ],
      "source": [
        "#Tuples are a type of data that are stored data together and linked\n",
        "#Tuples are created using regular parentheses\n",
        "#create a tuple (\"one\", \"two\", \"three\")\n"
      ]
    },
    {
      "cell_type": "code",
      "source": [
        "#it is possible to access a tuple value by passing the address inside []\n",
        "#Try to access the second element of the tuple.\n"
      ],
      "metadata": {
        "colab": {
          "base_uri": "https://localhost:8080/",
          "height": 56
        },
        "id": "dFcdmO29d729",
        "outputId": "6bef244e-3b7e-4d15-e3dc-c5d51e733765"
      },
      "execution_count": null,
      "outputs": [
        {
          "output_type": "execute_result",
          "data": {
            "text/plain": [
              "'two'"
            ],
            "application/vnd.google.colaboratory.intrinsic+json": {
              "type": "string"
            }
          },
          "metadata": {},
          "execution_count": 23
        }
      ]
    },
    {
      "cell_type": "markdown",
      "metadata": {
        "id": "b3AmUnREq7Mb"
      },
      "source": [
        "Tuples are immutable! For example, if you try to update or delete one value it will return an error"
      ]
    },
    {
      "cell_type": "code",
      "execution_count": null,
      "metadata": {
        "ExecuteTime": {
          "end_time": "2021-02-21T23:42:18.189695Z",
          "start_time": "2021-02-21T23:42:18.167998Z"
        },
        "id": "BKGA0rriq7Mb",
        "colab": {
          "base_uri": "https://localhost:8080/",
          "height": 192
        },
        "outputId": "4cc34f2e-c8d6-46f4-d5dc-4ba47b8564e8"
      },
      "outputs": [
        {
          "output_type": "error",
          "ename": "TypeError",
          "evalue": "'tuple' object does not support item assignment",
          "traceback": [
            "\u001b[0;31m---------------------------------------------------------------------------\u001b[0m",
            "\u001b[0;31mTypeError\u001b[0m                                 Traceback (most recent call last)",
            "\u001b[0;32m<ipython-input-24-b84d719c9e95>\u001b[0m in \u001b[0;36m<cell line: 3>\u001b[0;34m()\u001b[0m\n\u001b[1;32m      1\u001b[0m \u001b[0;31m#It is not possible to update a value in a tuple\u001b[0m\u001b[0;34m\u001b[0m\u001b[0;34m\u001b[0m\u001b[0m\n\u001b[1;32m      2\u001b[0m \u001b[0;31m#try to change the second element of the tuple using \"=\"\u001b[0m\u001b[0;34m\u001b[0m\u001b[0;34m\u001b[0m\u001b[0m\n\u001b[0;32m----> 3\u001b[0;31m \u001b[0ma_tuple\u001b[0m\u001b[0;34m[\u001b[0m\u001b[0;36m1\u001b[0m\u001b[0;34m]\u001b[0m \u001b[0;34m=\u001b[0m \u001b[0;34m\"hello\"\u001b[0m\u001b[0;34m\u001b[0m\u001b[0;34m\u001b[0m\u001b[0m\n\u001b[0m",
            "\u001b[0;31mTypeError\u001b[0m: 'tuple' object does not support item assignment"
          ]
        }
      ],
      "source": [
        "#It is not possible to update a value in a tuple\n",
        "#try to change the second element of the tuple using \"=\"\n"
      ]
    },
    {
      "cell_type": "markdown",
      "metadata": {
        "id": "j68QFU8cq7Mb"
      },
      "source": [
        "Adding elements to a tuple creates a new one"
      ]
    },
    {
      "cell_type": "code",
      "execution_count": null,
      "metadata": {
        "ExecuteTime": {
          "end_time": "2021-09-27T10:02:31.202564Z",
          "start_time": "2021-09-27T10:02:31.188789Z"
        },
        "id": "YHIJ3rGmq7Mb",
        "colab": {
          "base_uri": "https://localhost:8080/"
        },
        "outputId": "af964f6c-747a-4940-f5ca-2d562fb9da7a"
      },
      "outputs": [
        {
          "output_type": "stream",
          "name": "stdout",
          "text": [
            "('one', 'two', 'three', 23)\n",
            "('one', 'two', 'three')\n"
          ]
        }
      ],
      "source": [
        "#one solution would be to create a new tuple from an existing one\n",
        "#add a tuple piece (23,) to the tuple you have just created and create a new tuple called a_second_tuple\"\n",
        "\n",
        "#However, it is important to emphasize that the first tuple continues to exist and remains immutable.\n"
      ]
    },
    {
      "cell_type": "markdown",
      "metadata": {
        "id": "G25cTYpCq7Mb"
      },
      "source": [
        "Memory address of each variable"
      ]
    },
    {
      "cell_type": "code",
      "execution_count": null,
      "metadata": {
        "ExecuteTime": {
          "end_time": "2021-09-27T10:02:36.430500Z",
          "start_time": "2021-09-27T10:02:36.425077Z"
        },
        "id": "FedVk6aAq7Mb",
        "colab": {
          "base_uri": "https://localhost:8080/"
        },
        "outputId": "25a455de-12f9-4460-eb1f-9640728d6adb"
      },
      "outputs": [
        {
          "output_type": "stream",
          "name": "stdout",
          "text": [
            "136000221082304\n",
            "135999807516048\n"
          ]
        }
      ],
      "source": [
        "#to prove this, we can access the address of the tuples using the id() method\n",
        "#test both created tuples to see if the addresses are different\n"
      ]
    },
    {
      "cell_type": "markdown",
      "metadata": {
        "id": "PoOD8JHkq7Mb"
      },
      "source": [
        "---"
      ]
    },
    {
      "cell_type": "markdown",
      "metadata": {
        "id": "X6GGm8xJq7Mb"
      },
      "source": [
        "### Mapping Types"
      ]
    },
    {
      "cell_type": "markdown",
      "metadata": {
        "id": "--4dLqwEq7Mb"
      },
      "source": [
        "#### Dictionary"
      ]
    },
    {
      "cell_type": "markdown",
      "metadata": {
        "id": "BpyyKP7Dq7Mb"
      },
      "source": [
        "A dictionary is a mapping object composed of *keys* and *values* and *keys* need to hashable (lists and dictionaries are not)\n",
        "\n",
        "For example `{'data': 0, 'science': 0}`\n"
      ]
    },
    {
      "cell_type": "code",
      "execution_count": null,
      "metadata": {
        "ExecuteTime": {
          "end_time": "2021-09-27T10:04:57.669695Z",
          "start_time": "2021-09-27T10:04:57.661957Z"
        },
        "id": "zi1s3tvDq7Mc",
        "colab": {
          "base_uri": "https://localhost:8080/"
        },
        "outputId": "4f78a8bc-d8bb-4a72-e53d-4bc5b20cc660"
      },
      "outputs": [
        {
          "output_type": "stream",
          "name": "stdout",
          "text": [
            "<class 'dict'>\n"
          ]
        }
      ],
      "source": [
        "#create a dictionary\n",
        "#use dict() or {}\n",
        "#test both ways\n",
        "a_dict = dict()\n",
        "\n",
        "#test using type(), the dictionary you just created\n",
        "print(type(a_dict))"
      ]
    },
    {
      "cell_type": "markdown",
      "metadata": {
        "id": "NAI5q5G2q7Mc"
      },
      "source": [
        "Access the value of a key"
      ]
    },
    {
      "cell_type": "code",
      "execution_count": null,
      "metadata": {
        "ExecuteTime": {
          "end_time": "2021-09-27T10:05:03.595829Z",
          "start_time": "2021-09-27T10:05:03.587497Z"
        },
        "id": "0SnhXdkHq7Mc",
        "colab": {
          "base_uri": "https://localhost:8080/"
        },
        "outputId": "16781542-ad70-44fc-bcec-3d79898ea3c2"
      },
      "outputs": [
        {
          "output_type": "execute_result",
          "data": {
            "text/plain": [
              "{'data': 2, 1: 2, 'science': 4}"
            ]
          },
          "metadata": {},
          "execution_count": 29
        }
      ],
      "source": [
        "#dictionaries accept various types of values\n",
        "#keys need to be hashable\n",
        "#create a dictionary a_dict = {'data': 2, 1: 2, 'science': 4}\n",
        "a_dict = {'data': 2, 1: 2, 'science': 4}\n",
        "a_dict\n",
        "\n",
        "#Note that the keys are not of the same type."
      ]
    },
    {
      "cell_type": "code",
      "source": [
        "#acesse o value contido na key 'data'\n",
        "a_dict['data']"
      ],
      "metadata": {
        "colab": {
          "base_uri": "https://localhost:8080/"
        },
        "id": "FI7jebawwPWE",
        "outputId": "61490e8a-9bf5-43f4-9f9b-d081fc27c57d"
      },
      "execution_count": null,
      "outputs": [
        {
          "output_type": "execute_result",
          "data": {
            "text/plain": [
              "2"
            ]
          },
          "metadata": {},
          "execution_count": 30
        }
      ]
    },
    {
      "cell_type": "markdown",
      "metadata": {
        "id": "HeRmdtT0q7Mc"
      },
      "source": [
        "Delete entry with the key ```data```"
      ]
    },
    {
      "cell_type": "code",
      "execution_count": null,
      "metadata": {
        "ExecuteTime": {
          "end_time": "2021-09-27T10:05:15.652502Z",
          "start_time": "2021-09-27T10:05:15.648686Z"
        },
        "id": "0nvgnOUMq7Mc",
        "colab": {
          "base_uri": "https://localhost:8080/"
        },
        "outputId": "c9d902c2-cc88-4501-d2f1-b3b63be77594"
      },
      "outputs": [
        {
          "output_type": "stream",
          "name": "stdout",
          "text": [
            "{1: 2, 'science': 4}\n"
          ]
        }
      ],
      "source": [
        "#It is possible to delete a value from a dict using the del function\n",
        "#delete the data contained in the key data and print the dictionary\n",
        "del a_dict['data']\n",
        "print (a_dict)"
      ]
    },
    {
      "cell_type": "markdown",
      "metadata": {
        "id": "vXvTNsIwq7Mc"
      },
      "source": [
        "---"
      ]
    },
    {
      "cell_type": "markdown",
      "metadata": {
        "id": "0vxbyPFoq7Mc"
      },
      "source": [
        "## Operator \"in\""
      ]
    },
    {
      "cell_type": "code",
      "execution_count": null,
      "metadata": {
        "ExecuteTime": {
          "end_time": "2021-09-27T10:06:07.090468Z",
          "start_time": "2021-09-27T10:06:07.082554Z"
        },
        "scrolled": true,
        "id": "7m5UbX6dq7Mc",
        "colab": {
          "base_uri": "https://localhost:8080/"
        },
        "outputId": "2471e8d0-e428-4369-dda5-1cb8a11608a2"
      },
      "outputs": [
        {
          "output_type": "execute_result",
          "data": {
            "text/plain": [
              "False"
            ]
          },
          "metadata": {},
          "execution_count": 33
        }
      ],
      "source": [
        "#test if the float 0.5 is in list a=[ 1, 2, 3, 4] using \"in\"\n"
      ]
    },
    {
      "cell_type": "markdown",
      "metadata": {
        "id": "SSfYiu_Gq7Mc"
      },
      "source": [
        "---"
      ]
    },
    {
      "cell_type": "markdown",
      "metadata": {
        "id": "tmcYOPRGq7Mc"
      },
      "source": [
        "## Control Flow Tools"
      ]
    },
    {
      "cell_type": "markdown",
      "metadata": {
        "id": "hKElzx0rq7Mc"
      },
      "source": [
        "### For Statements"
      ]
    },
    {
      "cell_type": "markdown",
      "metadata": {
        "id": "iF4dGBrdq7Mc"
      },
      "source": [
        "```python\n",
        "for <var> in <iterable>:\n",
        "    <statement(s)>\n",
        "```"
      ]
    },
    {
      "cell_type": "code",
      "execution_count": null,
      "metadata": {
        "id": "hUPfvPGIq7Md",
        "colab": {
          "base_uri": "https://localhost:8080/"
        },
        "outputId": "df73a4f9-08ca-4d0c-ac3a-d8331213bfa2"
      },
      "outputs": [
        {
          "output_type": "stream",
          "name": "stdout",
          "text": [
            "1\n",
            "2\n",
            "3\n",
            "4\n"
          ]
        }
      ],
      "source": [
        "#for loop will interact with an object and return all parts of that object\n",
        "#using the structure above, create a for loop that iterates over the list [1,2,3,5] and print the values\n"
      ]
    },
    {
      "cell_type": "markdown",
      "metadata": {
        "id": "wlJx8DiLq7Md"
      },
      "source": [
        "#### range is often used as the iterable\n",
        "\n",
        "```python\n",
        "    for <var> in range(limit):\n",
        "        <statement(s)>\n",
        "```"
      ]
    },
    {
      "cell_type": "code",
      "execution_count": null,
      "metadata": {
        "id": "BnB18Lafq7Md",
        "colab": {
          "base_uri": "https://localhost:8080/"
        },
        "outputId": "6674e126-2330-43c6-87ad-81d4d63d7134"
      },
      "outputs": [
        {
          "output_type": "stream",
          "name": "stdout",
          "text": [
            "0\n",
            "1\n",
            "2\n",
            "3\n"
          ]
        }
      ],
      "source": [
        "#We can even use a range and manipulate the addresses of a list\n",
        "#using the len() function, create a for loop with range that prints the addresses of the list [1,2,3,5]\n"
      ]
    },
    {
      "cell_type": "markdown",
      "metadata": {
        "id": "BpymUN6jq7Md"
      },
      "source": [
        "### If Statements"
      ]
    },
    {
      "cell_type": "markdown",
      "metadata": {
        "id": "vU9iTEg9q7Md"
      },
      "source": [
        "```python\n",
        "    if <expr>:\n",
        "        <statement>\n",
        "    elif <expr>:\n",
        "        <statement>\n",
        "    else:\n",
        "        <statement>\n",
        "```"
      ]
    },
    {
      "cell_type": "markdown",
      "metadata": {
        "id": "NafO_Lcuq7Md"
      },
      "source": [
        "`expr` is an expression evaluated in a Boolean context\n",
        "    \n",
        "`statement` is a valid Python statement, which must be indented"
      ]
    },
    {
      "cell_type": "code",
      "execution_count": null,
      "metadata": {
        "id": "CUOFtT3Gq7Md",
        "colab": {
          "base_uri": "https://localhost:8080/"
        },
        "outputId": "c8d33a85-c289-40f9-c34c-f5dd5903183a"
      },
      "outputs": [
        {
          "output_type": "stream",
          "name": "stdout",
          "text": [
            "no\n"
          ]
        }
      ],
      "source": [
        "#If in Python works just like in other languages but without the need for '()' or '{}'\n",
        "#It is mandatory to indent the if structure for it to work\n",
        "#Create an if statement that tests if 2 > 4. If true, print 'yes', otherwise print 'no'\n"
      ]
    },
    {
      "cell_type": "markdown",
      "metadata": {
        "id": "trPPHaLaq7Md"
      },
      "source": [
        "### List Comprehensions"
      ]
    },
    {
      "cell_type": "markdown",
      "metadata": {
        "id": "S9-OBmhBq7Md"
      },
      "source": [
        "Create lists with elements with a single statement\n",
        "\n",
        "```python\n",
        "[ expression for a_value in a_collection ]\n",
        "\n",
        "```"
      ]
    },
    {
      "cell_type": "code",
      "execution_count": null,
      "metadata": {
        "ExecuteTime": {
          "end_time": "2021-02-22T00:12:13.216714Z",
          "start_time": "2021-02-22T00:12:13.208255Z"
        },
        "id": "qy2e6NjKq7Md",
        "colab": {
          "base_uri": "https://localhost:8080/"
        },
        "outputId": "ab14ba23-fd42-4ad4-d67f-ddf934ab14db"
      },
      "outputs": [
        {
          "output_type": "stream",
          "name": "stdout",
          "text": [
            "11\n",
            "12\n",
            "13\n",
            "14\n",
            "15\n",
            "[11, 12, 13, 14, 15]\n"
          ]
        }
      ],
      "source": [
        "#create a loop structure that iterates over the list [1,2,3,4,5] and prints the values +10 Ex: [11,12,13,14,15]\n",
        "\n",
        "\n",
        "\n",
        "#now using list comprehensions, create the same structure as above\n",
        "\n",
        "\n"
      ]
    },
    {
      "cell_type": "markdown",
      "metadata": {
        "id": "yirlRRaVq7Md"
      },
      "source": [
        "List comprehension with conditions\n",
        "\n",
        "```python\n",
        "[ expression for a_value in a_collection if condition ]\n",
        "\n",
        "```"
      ]
    },
    {
      "cell_type": "markdown",
      "metadata": {
        "id": "9supx-Ddq7Md"
      },
      "source": [
        "---"
      ]
    },
    {
      "cell_type": "code",
      "source": [
        "[i + 10 for i in range(1,6) if i >= 3]"
      ],
      "metadata": {
        "colab": {
          "base_uri": "https://localhost:8080/"
        },
        "id": "pDga8E2Df2JU",
        "outputId": "c4b4dd3c-9725-43a6-acda-3fa5928d2fda"
      },
      "execution_count": 64,
      "outputs": [
        {
          "output_type": "execute_result",
          "data": {
            "text/plain": [
              "[13, 14, 15]"
            ]
          },
          "metadata": {},
          "execution_count": 64
        }
      ]
    },
    {
      "cell_type": "markdown",
      "metadata": {
        "id": "cbteLWXZq7Md"
      },
      "source": [
        "## Functions"
      ]
    },
    {
      "cell_type": "code",
      "execution_count": null,
      "metadata": {
        "id": "Jx-BZ3Rtq7Me"
      },
      "outputs": [],
      "source": [
        "def functionName(argument_one, argument_two):\n",
        "    \"\"\"\n",
        "    Comment what it does\n",
        "    \"\"\"\n",
        "\n",
        "\n",
        "    do_stuff\n",
        "\n",
        "    return value\n"
      ]
    },
    {
      "cell_type": "code",
      "execution_count": null,
      "metadata": {
        "id": "D6RWQhs-q7Me"
      },
      "outputs": [],
      "source": [
        "functionName?"
      ]
    },
    {
      "cell_type": "markdown",
      "metadata": {
        "id": "LRxN-p0Gq7Me"
      },
      "source": [
        "### Call a function"
      ]
    },
    {
      "cell_type": "markdown",
      "metadata": {
        "id": "Zsi5B__Xq7Me"
      },
      "source": [
        "```python\n",
        "functionName(argument_one, argument_two)\n",
        "```"
      ]
    },
    {
      "cell_type": "code",
      "execution_count": null,
      "metadata": {
        "id": "8NkBf0bmq7Me"
      },
      "outputs": [],
      "source": [
        "#using the structure above, create a function that takes two numbers as parameters and returns their sum\n"
      ]
    },
    {
      "cell_type": "markdown",
      "metadata": {
        "id": "zrl_XQnxq7Me"
      },
      "source": [
        "### Built-in Functions\n",
        "\n",
        "We have already used some. But there are more:\n",
        "\n",
        "https://docs.python.org/3/library/functions.html"
      ]
    },
    {
      "cell_type": "markdown",
      "metadata": {
        "id": "2y5jiV3_q7Me"
      },
      "source": [
        "## Code Standards"
      ]
    },
    {
      "cell_type": "markdown",
      "metadata": {
        "id": "2JZi1Uy5q7Me"
      },
      "source": [
        "[PEP 8: Function and Variable Names](https://www.python.org/dev/peps/pep-0008/#function-and-variable-names)  \n",
        "\n",
        "**Summary**\n",
        " - Use Snake case in functions and variables, lowercase with words separated by underscores as necessary to improve readability\n",
        "     - data_science  \n",
        "\n",
        "\n",
        " - For constants use all capital letters with underscores separating words\n",
        "     - DATA_SCIENCE  \n",
        "\n",
        "\n",
        " - Use CapWords convention for classes\n",
        "     - DataScience"
      ]
    },
    {
      "cell_type": "markdown",
      "metadata": {
        "id": "rC-2j2O6w8o8"
      },
      "source": [
        "# Challenges - Part I\n",
        "\n",
        "**Cosine similarity from scratch**\n",
        "\n",
        "\n",
        "## Question 1/6\n",
        "\n",
        "The dot product between two vectors $v1$ e $v2$ of size $n$ is defined as:\n",
        "\n",
        "$$\\sum_{i=1}^n v1_i . v2_i $$\n",
        "\n",
        "Create a `for` loop necessary to compute the dot product between any two vectors of the same size.\n",
        "\n"
      ]
    },
    {
      "cell_type": "code",
      "execution_count": 82,
      "metadata": {
        "id": "4B656RuZq7Me",
        "colab": {
          "base_uri": "https://localhost:8080/"
        },
        "outputId": "b9735670-61a2-45bc-859b-0a58cfa14d2e"
      },
      "outputs": [
        {
          "output_type": "stream",
          "name": "stdout",
          "text": [
            "38\n"
          ]
        }
      ],
      "source": [
        "# SOLUTION 1\n",
        "def dot_product(v1, v2):\n",
        "\n",
        "  lista = []\n",
        "\n",
        "  for i in range(len(v1)):\n",
        "\n",
        "    lista.append(v1[i] * v2[i])\n",
        "\n",
        "  return (sum(lista))\n",
        "\n",
        "v1 = [1,2,3,4]\n",
        "v2 = [3,2,5,4]\n",
        "\n",
        "print(dot_product(v1, v2))\n"
      ]
    },
    {
      "cell_type": "markdown",
      "metadata": {
        "id": "l40MIkKu0N2v"
      },
      "source": [
        "## Question 2/6\n",
        "\n",
        "Try using the built-in function `zip`. Pass vectors `v1` and `v2` as parameters.\n",
        "\n",
        "**Note.** `zip` produces an object of class `zip`, but we can cast it as a `list` using the built-in function `list()` on that object"
      ]
    },
    {
      "cell_type": "markdown",
      "metadata": {
        "id": "vlwN-22X1NHq"
      },
      "source": [
        "Based on the result obtained explain what the `zip`function does."
      ]
    },
    {
      "cell_type": "code",
      "source": [
        "print(zip(v1, v2))"
      ],
      "metadata": {
        "colab": {
          "base_uri": "https://localhost:8080/"
        },
        "id": "8x_cbP0RhrC6",
        "outputId": "23bf3c82-3567-48e5-90e4-eb3f08885409"
      },
      "execution_count": 91,
      "outputs": [
        {
          "output_type": "stream",
          "name": "stdout",
          "text": [
            "[(1, 3), (2, 2), (3, 5), (4, 4)]\n"
          ]
        }
      ]
    },
    {
      "cell_type": "code",
      "execution_count": null,
      "metadata": {
        "id": "GjhUw2ZPq7Mf"
      },
      "outputs": [],
      "source": [
        "\n"
      ]
    },
    {
      "cell_type": "markdown",
      "metadata": {
        "id": "AxZpYu9uq7Mf"
      },
      "source": [
        "---\n",
        "## Question 3/6\n",
        "\n",
        "Try using the built-in funcion `zip()` to compute the dot product in single line of code.\n",
        "\n",
        "- **Hint 1:** use a list comprehension\n",
        "- **Hint 2:** use the built-in function `sum()` to obtain the sum of all values of a list"
      ]
    },
    {
      "cell_type": "code",
      "execution_count": 92,
      "metadata": {
        "id": "kouVzfwHz2GQ",
        "colab": {
          "base_uri": "https://localhost:8080/"
        },
        "outputId": "18a54290-f83e-4140-ba88-9ab3ce155ec2"
      },
      "outputs": [
        {
          "output_type": "execute_result",
          "data": {
            "text/plain": [
              "38"
            ]
          },
          "metadata": {},
          "execution_count": 92
        }
      ],
      "source": [
        "# zip is used to combine the two lists (ignoring excess values)\n",
        "# it uses the addresses to access the items in the tuple and performs the multiplication\n",
        "sum([i * j for i, j in zip(v1, v2)])"
      ]
    },
    {
      "cell_type": "markdown",
      "metadata": {
        "id": "8N7Gzg2R3T7_"
      },
      "source": [
        "---\n",
        "## Question 4/6\n",
        "\n",
        "The norm of a vector (its magnitude) is defined as:\n",
        "\n",
        "$$ \\lVert x \\rVert = \\sqrt{\\sum_{i=1}^n x_i^2}$$\n",
        "\n",
        "Write a for loop that computes a norm of a given vector $v$."
      ]
    },
    {
      "cell_type": "code",
      "source": [
        "import math\n",
        "\n",
        "def norm(v):\n",
        "  sum_squares = 0\n",
        "  for x in v:\n",
        "    sum_squares += x**2\n",
        "  return math.sqrt(sum_squares)\n",
        "\n",
        "v = [1, 2, 3, 4]\n",
        "\n",
        "print(norm(v))"
      ],
      "metadata": {
        "colab": {
          "base_uri": "https://localhost:8080/"
        },
        "id": "meIFTEaJm53K",
        "outputId": "942a4a53-2e94-4f23-d47d-e69b8d4aaab7"
      },
      "execution_count": 93,
      "outputs": [
        {
          "output_type": "stream",
          "name": "stdout",
          "text": [
            "5.477225575051661\n"
          ]
        }
      ]
    },
    {
      "cell_type": "markdown",
      "metadata": {
        "id": "Vb12GvWP-g-A"
      },
      "source": [
        "## Question 5/6\n",
        "\n",
        "Recall how to create a funcion:\n",
        "\n",
        "```python\n",
        "def name_of_the_function(list of arguments):\n",
        "    do something\n",
        "    ...\n",
        "    return the_result\n",
        "```\n",
        "\n",
        "1. Define a function that computes the dot product of two vectors $v1$ e $v2$\n",
        "\n",
        "2. Define a function that computes the norm of a vector $v$\n",
        "\n",
        "3. Call both function"
      ]
    },
    {
      "cell_type": "code",
      "source": [
        "import math\n",
        "\n",
        "print(dot_product(v1, v2))\n",
        "print(norm(v))\n"
      ],
      "metadata": {
        "id": "lN4Z9KKmoVe2",
        "outputId": "fccbf690-1357-411c-82df-2b9d1e6d491b",
        "colab": {
          "base_uri": "https://localhost:8080/"
        }
      },
      "execution_count": 95,
      "outputs": [
        {
          "output_type": "stream",
          "name": "stdout",
          "text": [
            "38\n",
            "5.477225575051661\n"
          ]
        }
      ]
    },
    {
      "cell_type": "markdown",
      "metadata": {
        "id": "B5ZKUFsG_kzI"
      },
      "source": [
        "## Question 6/6\n",
        "\n",
        "In Data Science there is this famous measure of similarity called cosine similarity.\n",
        "\n",
        "Given two vectors $v1$ e $v2$, it is defined as:\n",
        "\n",
        "$$\n",
        "  cos(v1, v2) = \\frac{v1 . v2}{\\lVert v1 \\rVert \\times \\lVert v2 \\rVert}\n",
        "$$  \n",
        "\n",
        "Using the above functions, define a new one that computes this similarity.\n"
      ]
    },
    {
      "cell_type": "code",
      "source": [
        "def cosine_similarity(v1, v2):\n",
        "\n",
        "  return dot_product(v1, v2) / (norm(v1) * norm(v2))\n",
        "\n",
        "cosine_similarity(v1, v2)"
      ],
      "metadata": {
        "id": "-JUsRbPWnqRX",
        "outputId": "9c849ff7-5621-4de3-9781-922a5414a4cd",
        "colab": {
          "base_uri": "https://localhost:8080/"
        }
      },
      "execution_count": 90,
      "outputs": [
        {
          "output_type": "execute_result",
          "data": {
            "text/plain": [
              "0.9441175904999112"
            ]
          },
          "metadata": {},
          "execution_count": 90
        }
      ]
    }
  ],
  "metadata": {
    "colab": {
      "provenance": [],
      "collapsed_sections": [
        "4uyCuLa1q7MS",
        "h7wENW4Dq7MS",
        "5aQOK-joq7MU",
        "qXp0-cYqq7MU",
        "KzO2gG8Jq7Ma",
        "WB4ER7Mhq7Mb",
        "X6GGm8xJq7Mb",
        "--4dLqwEq7Mb",
        "0vxbyPFoq7Mc"
      ]
    },
    "kernelspec": {
      "display_name": "Python 3 (ipykernel)",
      "language": "python",
      "name": "python3"
    },
    "language_info": {
      "codemirror_mode": {
        "name": "ipython",
        "version": 3
      },
      "file_extension": ".py",
      "mimetype": "text/x-python",
      "name": "python",
      "nbconvert_exporter": "python",
      "pygments_lexer": "ipython3",
      "version": "3.11.0"
    }
  },
  "nbformat": 4,
  "nbformat_minor": 0
}